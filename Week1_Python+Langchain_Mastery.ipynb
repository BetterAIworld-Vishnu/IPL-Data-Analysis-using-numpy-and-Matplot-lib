{
  "nbformat": 4,
  "nbformat_minor": 0,
  "metadata": {
    "colab": {
      "provenance": [],
      "include_colab_link": true
    },
    "kernelspec": {
      "name": "python3",
      "display_name": "Python 3"
    },
    "language_info": {
      "name": "python"
    }
  },
  "cells": [
    {
      "cell_type": "markdown",
      "metadata": {
        "id": "view-in-github",
        "colab_type": "text"
      },
      "source": [
        "<a href=\"https://colab.research.google.com/github/BetterAIworld-Vishnu/IPL-Data-Analysis-using-numpy-and-Matplot-lib/blob/main/Week1_Python%2BLangchain_Mastery.ipynb\" target=\"_parent\"><img src=\"https://colab.research.google.com/assets/colab-badge.svg\" alt=\"Open In Colab\"/></a>"
      ]
    },
    {
      "cell_type": "code",
      "source": [
        "1 + 1"
      ],
      "metadata": {
        "colab": {
          "base_uri": "https://localhost:8080/"
        },
        "id": "Sr_EUEf7fMR8",
        "outputId": "f7a6254e-b54a-46a3-b363-d650459e5846"
      },
      "execution_count": null,
      "outputs": [
        {
          "output_type": "execute_result",
          "data": {
            "text/plain": [
              "2"
            ]
          },
          "metadata": {},
          "execution_count": 1
        }
      ]
    },
    {
      "cell_type": "markdown",
      "source": [
        "# H1 - Title"
      ],
      "metadata": {
        "id": "IQeGX3Bpgdvv"
      }
    },
    {
      "cell_type": "markdown",
      "source": [
        "# H1 - Title"
      ],
      "metadata": {
        "id": "AYSa2V6rfQvo"
      }
    },
    {
      "cell_type": "markdown",
      "source": [
        "## H2 - Section"
      ],
      "metadata": {
        "id": "TJ_N_LJ2fVeA"
      }
    },
    {
      "cell_type": "markdown",
      "source": [
        "### H3 - Subsection"
      ],
      "metadata": {
        "id": "87fYsNeqfZ3m"
      }
    },
    {
      "cell_type": "markdown",
      "source": [
        "#### H4 - Smaller heading"
      ],
      "metadata": {
        "id": "9wwRfMFtfdbU"
      }
    },
    {
      "cell_type": "markdown",
      "source": [
        "# Text Formating"
      ],
      "metadata": {
        "id": "xj7Axh2Lgu8Q"
      }
    },
    {
      "cell_type": "markdown",
      "source": [
        "**Hello welcome to this session**"
      ],
      "metadata": {
        "id": "Uo4GPGt9gxUm"
      }
    },
    {
      "cell_type": "markdown",
      "source": [
        "*Italic*"
      ],
      "metadata": {
        "id": "sOqNkRT-g7Ol"
      }
    },
    {
      "cell_type": "markdown",
      "source": [
        "~~Strikethrough~~"
      ],
      "metadata": {
        "id": "ipyV4EnOg-WC"
      }
    },
    {
      "cell_type": "markdown",
      "source": [
        "# Lists"
      ],
      "metadata": {
        "id": "tCskqM-RhLzb"
      }
    },
    {
      "cell_type": "markdown",
      "source": [
        "- Sales in Q1 is decreased by 2%\n",
        "- Sales in Q2 was good"
      ],
      "metadata": {
        "id": "TUjbwdokhNlj"
      }
    },
    {
      "cell_type": "markdown",
      "source": [
        "1. Step One\n",
        "2. Step Two"
      ],
      "metadata": {
        "id": "uzsqdt-Mh8Ht"
      }
    },
    {
      "cell_type": "code",
      "source": [
        "print(\"Hello World\")"
      ],
      "metadata": {
        "colab": {
          "base_uri": "https://localhost:8080/"
        },
        "id": "XBEpfz9yizK6",
        "outputId": "c7148420-4c48-46e7-8479-ed558da8fc52"
      },
      "execution_count": null,
      "outputs": [
        {
          "output_type": "stream",
          "name": "stdout",
          "text": [
            "Hello World\n"
          ]
        }
      ]
    },
    {
      "cell_type": "markdown",
      "source": [
        "`print(\"Hello World\")` - This is a sample program"
      ],
      "metadata": {
        "id": "2j73Iu0Qi4LO"
      }
    },
    {
      "cell_type": "markdown",
      "source": [
        "## Different Roles in Data Field:\n",
        "\n",
        "### **Data Engineer - The Data Plumber**\n",
        "\n",
        "- Builds and maintains data pipelines Builds and maintains data <br> pipelines Builds and maintains data pipelines Builds and maintains data pipelines Builds and maintains data pipelines\n",
        "- Tools: SQL, Python, Spark\n",
        "- Works with: Data Scientist, ML Engineers"
      ],
      "metadata": {
        "id": "olvK1zTSjod2"
      }
    },
    {
      "cell_type": "markdown",
      "source": [
        "- Run Cell -> shift + enter\n",
        "- Convert to a text cell -> cntl + M then M\n",
        "- Convert to a code cell -> Cntl + M then Y\n",
        "- Move the cell up -> Cntl + M then K\n",
        "- Move the cell down -> Cntl + M then J\n",
        "- **Delete Cell** -> Cntl + M then D"
      ],
      "metadata": {
        "id": "AKR6pp-ukBcN"
      }
    },
    {
      "cell_type": "markdown",
      "source": [
        "- Insert a Code cell Below -> cntl + M, B\n",
        "- Insert a code cell above -> cntl + M, A"
      ],
      "metadata": {
        "id": "GTcGZEcNk2O1"
      }
    },
    {
      "cell_type": "code",
      "source": [
        "print(\"Hello World\")"
      ],
      "metadata": {
        "id": "BnH4KpJIk9dr",
        "colab": {
          "base_uri": "https://localhost:8080/"
        },
        "outputId": "3139294e-bbe1-4dc5-8d29-c720a0cc5e36"
      },
      "execution_count": null,
      "outputs": [
        {
          "output_type": "stream",
          "name": "stdout",
          "text": [
            "Hello World\n"
          ]
        }
      ]
    },
    {
      "cell_type": "markdown",
      "source": [
        "# Variables, Data Types, Operators"
      ],
      "metadata": {
        "id": "X4NcV37ZmcsH"
      }
    },
    {
      "cell_type": "code",
      "source": [
        "name = \"Sarvesh\"\n",
        "\n",
        "age = 40\n",
        "\n",
        "salary = 125000.50\n",
        "\n",
        "is_active = True"
      ],
      "metadata": {
        "id": "5hMcqDzGl18F"
      },
      "execution_count": null,
      "outputs": []
    },
    {
      "cell_type": "code",
      "source": [
        "print(f\"Name: {name}, Age: {age}, Salary: {salary}, Active: {is_active}\")"
      ],
      "metadata": {
        "colab": {
          "base_uri": "https://localhost:8080/"
        },
        "id": "diahc7JIlXCv",
        "outputId": "ebdc334a-4c2e-44d5-9adc-0023cd41193c"
      },
      "execution_count": null,
      "outputs": [
        {
          "output_type": "stream",
          "name": "stdout",
          "text": [
            "Name: Sarvesh, Age: 40, Salary: 125000.5, Active: True\n"
          ]
        }
      ]
    },
    {
      "cell_type": "code",
      "source": [
        "age_str = str(age)"
      ],
      "metadata": {
        "id": "nzRsO209n4NB"
      },
      "execution_count": null,
      "outputs": []
    },
    {
      "cell_type": "code",
      "source": [
        "type(age)"
      ],
      "metadata": {
        "colab": {
          "base_uri": "https://localhost:8080/"
        },
        "id": "yboghsqdn--m",
        "outputId": "9dcc5a6a-085b-40f0-a1a0-1560dfb57833"
      },
      "execution_count": null,
      "outputs": [
        {
          "output_type": "execute_result",
          "data": {
            "text/plain": [
              "int"
            ]
          },
          "metadata": {},
          "execution_count": 12
        }
      ]
    },
    {
      "cell_type": "code",
      "source": [
        "type(age_str)"
      ],
      "metadata": {
        "colab": {
          "base_uri": "https://localhost:8080/"
        },
        "id": "h4cMjybQn8H_",
        "outputId": "6232d386-abdf-4a84-b39b-96a42b5c1b3e"
      },
      "execution_count": null,
      "outputs": [
        {
          "output_type": "execute_result",
          "data": {
            "text/plain": [
              "str"
            ]
          },
          "metadata": {},
          "execution_count": 11
        }
      ]
    },
    {
      "cell_type": "code",
      "source": [
        "salary_int = int(salary)"
      ],
      "metadata": {
        "id": "hPlG5K_XoQt3"
      },
      "execution_count": null,
      "outputs": []
    },
    {
      "cell_type": "code",
      "source": [
        "salary_int"
      ],
      "metadata": {
        "colab": {
          "base_uri": "https://localhost:8080/"
        },
        "id": "_1ugUWNsoTcg",
        "outputId": "ca06935f-6161-4017-e4e6-a6f9e7078f86"
      },
      "execution_count": null,
      "outputs": [
        {
          "output_type": "execute_result",
          "data": {
            "text/plain": [
              "125000"
            ]
          },
          "metadata": {},
          "execution_count": 14
        }
      ]
    },
    {
      "cell_type": "code",
      "source": [
        "print(\"Converted:\", age_str, type(age_str), salary_int, type(salary_int))"
      ],
      "metadata": {
        "colab": {
          "base_uri": "https://localhost:8080/"
        },
        "id": "mT5h9fCwoFwM",
        "outputId": "d7c95f67-2920-4bf4-dd4d-4f119b193cd0"
      },
      "execution_count": null,
      "outputs": [
        {
          "output_type": "stream",
          "name": "stdout",
          "text": [
            "Converted: 40 <class 'str'> 125000 <class 'int'>\n"
          ]
        }
      ]
    },
    {
      "cell_type": "markdown",
      "source": [
        "## Arithmetic Operators - Math Operations"
      ],
      "metadata": {
        "id": "CxdVJTMJpOzC"
      }
    },
    {
      "cell_type": "code",
      "source": [
        "a = 10\n",
        "b = 3\n",
        "\n",
        "print(\"Addition:\", a+b)\n",
        "print(\"Division:\", a/b)\n",
        "print(\"Floor Division:\", a//b)\n",
        "print(\"Multiplication:\", a*b)\n",
        "print(\"Subtraction:\", a-b)\n",
        "print(\"Modulus:\", a%b)\n",
        "print(\"Exponent:\", a**b)\n",
        "print(\"Power:\", a**b)"
      ],
      "metadata": {
        "colab": {
          "base_uri": "https://localhost:8080/"
        },
        "id": "j9EKWaxIoe30",
        "outputId": "c34ae728-4614-4ef8-c19a-2efc5b6bfc2c"
      },
      "execution_count": null,
      "outputs": [
        {
          "output_type": "stream",
          "name": "stdout",
          "text": [
            "Addition: 13\n",
            "Division: 3.3333333333333335\n",
            "Floor Division: 3\n",
            "Multiplication: 30\n",
            "Subtraction: 7\n",
            "Modulus: 1\n",
            "Exponent: 1000\n",
            "Power: 1000\n"
          ]
        }
      ]
    },
    {
      "cell_type": "markdown",
      "source": [
        "## Comparision(Relational) Operators"
      ],
      "metadata": {
        "id": "CVyHPgoVp5EI"
      }
    },
    {
      "cell_type": "code",
      "source": [
        "== - Equal to"
      ],
      "metadata": {
        "id": "RK7ksfD-p--D"
      },
      "execution_count": null,
      "outputs": []
    },
    {
      "cell_type": "code",
      "source": [
        "5 == 5"
      ],
      "metadata": {
        "colab": {
          "base_uri": "https://localhost:8080/"
        },
        "id": "bWjHnrWMqJVR",
        "outputId": "faaccb15-13f3-4ffb-84e5-d96adad51dff"
      },
      "execution_count": null,
      "outputs": [
        {
          "output_type": "execute_result",
          "data": {
            "text/plain": [
              "True"
            ]
          },
          "metadata": {},
          "execution_count": 17
        }
      ]
    },
    {
      "cell_type": "code",
      "source": [
        "4 == 5"
      ],
      "metadata": {
        "colab": {
          "base_uri": "https://localhost:8080/"
        },
        "id": "LE0xOd39qMDZ",
        "outputId": "eeb69e23-58aa-4d69-d646-c8bf9c268e39"
      },
      "execution_count": null,
      "outputs": [
        {
          "output_type": "execute_result",
          "data": {
            "text/plain": [
              "False"
            ]
          },
          "metadata": {},
          "execution_count": 18
        }
      ]
    },
    {
      "cell_type": "code",
      "source": [
        "5 != 5"
      ],
      "metadata": {
        "colab": {
          "base_uri": "https://localhost:8080/"
        },
        "id": "46Eo-pdfp9QS",
        "outputId": "95ab28d5-c259-4863-aa3e-5bce691fe4fc"
      },
      "execution_count": null,
      "outputs": [
        {
          "output_type": "execute_result",
          "data": {
            "text/plain": [
              "False"
            ]
          },
          "metadata": {},
          "execution_count": 19
        }
      ]
    },
    {
      "cell_type": "code",
      "source": [],
      "metadata": {
        "id": "59xx1bk5q38z"
      },
      "execution_count": null,
      "outputs": []
    }
  ]
}